{
  "nbformat": 4,
  "nbformat_minor": 0,
  "metadata": {
    "colab": {
      "provenance": [],
      "gpuType": "T4",
      "mount_file_id": "1a-p85AY-_m5flGMvX0vJ2MOI12cbCaUL",
      "authorship_tag": "ABX9TyNC2cwE4Q/ZqHUJ3zGyeyWJ",
      "include_colab_link": true
    },
    "kernelspec": {
      "name": "python3",
      "display_name": "Python 3"
    },
    "language_info": {
      "name": "python"
    },
    "accelerator": "GPU"
  },
  "cells": [
    {
      "cell_type": "markdown",
      "metadata": {
        "id": "view-in-github",
        "colab_type": "text"
      },
      "source": [
        "<a href=\"https://colab.research.google.com/github/munnurumahesh03-coder/machine_learning_for_regression/blob/main/sk.ipynb\" target=\"_parent\"><img src=\"https://colab.research.google.com/assets/colab-badge.svg\" alt=\"Open In Colab\"/></a>"
      ]
    },
    {
      "cell_type": "code",
      "execution_count": 1,
      "metadata": {
        "id": "Vjpfaia4bF3_",
        "colab": {
          "base_uri": "https://localhost:8080/"
        },
        "outputId": "60af2346-0848-41bb-a87e-b10b9b793d0f"
      },
      "outputs": [
        {
          "output_type": "stream",
          "name": "stdout",
          "text": [
            "Drive already mounted at /content/drive; to attempt to forcibly remount, call drive.mount(\"/content/drive\", force_remount=True).\n"
          ]
        }
      ],
      "source": [
        "from google.colab import drive\n",
        "drive.mount('/content/drive')\n"
      ]
    },
    {
      "cell_type": "code",
      "source": [
        "# Go to your main Google Drive folder\n",
        "%cd /content/drive/MyDrive/\n",
        "\n",
        "# Clone the repository from GitHub\n",
        "!git clone https://github.com/munnurumahesh03-coder/machine_learning_for_regression.git\n"
      ],
      "metadata": {
        "id": "9htsV1sByHS6",
        "colab": {
          "base_uri": "https://localhost:8080/"
        },
        "outputId": "309bfb0a-16eb-4372-ff57-8af6bc7779cf"
      },
      "execution_count": 2,
      "outputs": [
        {
          "output_type": "stream",
          "name": "stdout",
          "text": [
            "/content/drive/MyDrive\n",
            "Cloning into 'machine_learning_for_regression'...\n",
            "remote: Enumerating objects: 5, done.\u001b[K\n",
            "remote: Counting objects: 100% (5/5), done.\u001b[K\n",
            "remote: Compressing objects: 100% (5/5), done.\u001b[K\n",
            "remote: Total 5 (delta 0), reused 0 (delta 0), pack-reused 0 (from 0)\u001b[K\n",
            "Receiving objects: 100% (5/5), done.\n"
          ]
        }
      ]
    },
    {
      "cell_type": "code",
      "source": [
        "!mv \"/content/drive/MyDrive/sk.ipynb\" \"/content/drive/MyDrive/machine_learning_for_regression/\""
      ],
      "metadata": {
        "colab": {
          "base_uri": "https://localhost:8080/"
        },
        "id": "DDH4EYFSjpLF",
        "outputId": "89df884d-1a5b-4fd0-dbe2-12645a505bf8"
      },
      "execution_count": 3,
      "outputs": [
        {
          "output_type": "stream",
          "name": "stdout",
          "text": [
            "mv: cannot stat '/content/drive/MyDrive/sk.ipynb': No such file or directory\n"
          ]
        }
      ]
    },
    {
      "cell_type": "code",
      "source": [
        "%cd /content/drive/MyDrive/machine_learning_for_regression/\n"
      ],
      "metadata": {
        "colab": {
          "base_uri": "https://localhost:8080/"
        },
        "id": "-KSKUh7ef2Rb",
        "outputId": "83a2e2ca-182d-45a2-f38d-7637c6890df8"
      },
      "execution_count": 4,
      "outputs": [
        {
          "output_type": "stream",
          "name": "stdout",
          "text": [
            "/content/drive/MyDrive/machine_learning_for_regression\n"
          ]
        }
      ]
    },
    {
      "cell_type": "code",
      "source": [
        "# 1. Configure Git with your details\n",
        "!git config --global user.name \"mahesh\"\n",
        "!git config --global user.email \"your-munnurumahesh03@gmail.com\"  #<-- Make sure this is your GitHub email\n",
        "\n",
        "# 2. Add the notebook file to Git\n",
        "!git add sk.ipynb\n",
        "\n",
        "# 3. Save the change with a message\n",
        "!git commit -m \"Initial project setup with notebook\"\n",
        "\n",
        "# 4. Upload the change to GitHub\n",
        "!git push\n"
      ],
      "metadata": {
        "id": "RHNLZi_Pf2PE",
        "colab": {
          "base_uri": "https://localhost:8080/"
        },
        "outputId": "a194df4a-b570-4b60-cde9-91522e0f4ee8"
      },
      "execution_count": 5,
      "outputs": [
        {
          "output_type": "stream",
          "name": "stdout",
          "text": [
            "fatal: pathspec 'sk.ipynb' did not match any files\n",
            "On branch main\n",
            "Your branch is up to date with 'origin/main'.\n",
            "\n",
            "nothing to commit, working tree clean\n",
            "fatal: could not read Username for 'https://github.com': No such device or address\n"
          ]
        }
      ]
    },
    {
      "cell_type": "code",
      "source": [],
      "metadata": {
        "id": "FiuH9jjlf2Ml"
      },
      "execution_count": null,
      "outputs": []
    },
    {
      "cell_type": "code",
      "source": [],
      "metadata": {
        "id": "vkAe1LY-f2Ka"
      },
      "execution_count": null,
      "outputs": []
    },
    {
      "cell_type": "code",
      "source": [],
      "metadata": {
        "id": "32Iq_Yy3yHQP"
      },
      "execution_count": null,
      "outputs": []
    }
  ]
}